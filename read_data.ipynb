{
  "cells": [
    {
      "cell_type": "markdown",
      "source": "# Reading \u0026 Merging Data",
      "metadata": {
        "pycharm": {
          "metadata": false
        }
      }
    },
    {
      "cell_type": "markdown",
      "source": "**In this notebook we\u0027ll be loading, labelling and merging \"True.csv\" and \"Fake.csv\" into a master source dataset**\n",
      "metadata": {
        "pycharm": {
          "metadata": false
        }
      }
    },
    {
      "cell_type": "markdown",
      "source": "**Load Libraries**",
      "metadata": {
        "pycharm": {
          "metadata": false,
          "name": "#%% md\n"
        }
      }
    },
    {
      "cell_type": "code",
      "execution_count": 10,
      "metadata": {
        "collapsed": true,
        "pycharm": {
          "is_executing": false
        }
      },
      "outputs": [],
      "source": "import pandas as pd"
    },
    {
      "cell_type": "markdown",
      "source": "**Load Fake \u0026 Real News CSVs**\n",
      "metadata": {
        "pycharm": {
          "metadata": false,
          "name": "#%% md\n"
        }
      }
    },
    {
      "cell_type": "markdown",
      "source": "**Load True.csv**\n",
      "metadata": {
        "pycharm": {
          "metadata": false
        }
      }
    },
    {
      "cell_type": "code",
      "execution_count": 11,
      "outputs": [
        {
          "data": {
            "text/plain": "                                               title  \\\n0  As U.S. budget fight looms, Republicans flip t...   \n1  U.S. military to accept transgender recruits o...   \n2  Senior U.S. Republican senator: \u0027Let Mr. Muell...   \n3  FBI Russia probe helped by Australian diplomat...   \n4  Trump wants Postal Service to charge \u0027much mor...   \n\n                                                text       subject  \\\n0  WASHINGTON (Reuters) - The head of a conservat...  politicsNews   \n1  WASHINGTON (Reuters) - Transgender people will...  politicsNews   \n2  WASHINGTON (Reuters) - The special counsel inv...  politicsNews   \n3  WASHINGTON (Reuters) - Trump campaign adviser ...  politicsNews   \n4  SEATTLE/WASHINGTON (Reuters) - President Donal...  politicsNews   \n\n                 date  \n0  December 31, 2017   \n1  December 29, 2017   \n2  December 31, 2017   \n3  December 30, 2017   \n4  December 29, 2017   ",
            "text/html": "\u003cdiv\u003e\n\u003cstyle scoped\u003e\n    .dataframe tbody tr th:only-of-type {\n        vertical-align: middle;\n    }\n\n    .dataframe tbody tr th {\n        vertical-align: top;\n    }\n\n    .dataframe thead th {\n        text-align: right;\n    }\n\u003c/style\u003e\n\u003ctable border\u003d\"1\" class\u003d\"dataframe\"\u003e\n  \u003cthead\u003e\n    \u003ctr style\u003d\"text-align: right;\"\u003e\n      \u003cth\u003e\u003c/th\u003e\n      \u003cth\u003etitle\u003c/th\u003e\n      \u003cth\u003etext\u003c/th\u003e\n      \u003cth\u003esubject\u003c/th\u003e\n      \u003cth\u003edate\u003c/th\u003e\n    \u003c/tr\u003e\n  \u003c/thead\u003e\n  \u003ctbody\u003e\n    \u003ctr\u003e\n      \u003cth\u003e0\u003c/th\u003e\n      \u003ctd\u003eAs U.S. budget fight looms, Republicans flip t...\u003c/td\u003e\n      \u003ctd\u003eWASHINGTON (Reuters) - The head of a conservat...\u003c/td\u003e\n      \u003ctd\u003epoliticsNews\u003c/td\u003e\n      \u003ctd\u003eDecember 31, 2017\u003c/td\u003e\n    \u003c/tr\u003e\n    \u003ctr\u003e\n      \u003cth\u003e1\u003c/th\u003e\n      \u003ctd\u003eU.S. military to accept transgender recruits o...\u003c/td\u003e\n      \u003ctd\u003eWASHINGTON (Reuters) - Transgender people will...\u003c/td\u003e\n      \u003ctd\u003epoliticsNews\u003c/td\u003e\n      \u003ctd\u003eDecember 29, 2017\u003c/td\u003e\n    \u003c/tr\u003e\n    \u003ctr\u003e\n      \u003cth\u003e2\u003c/th\u003e\n      \u003ctd\u003eSenior U.S. Republican senator: \u0027Let Mr. Muell...\u003c/td\u003e\n      \u003ctd\u003eWASHINGTON (Reuters) - The special counsel inv...\u003c/td\u003e\n      \u003ctd\u003epoliticsNews\u003c/td\u003e\n      \u003ctd\u003eDecember 31, 2017\u003c/td\u003e\n    \u003c/tr\u003e\n    \u003ctr\u003e\n      \u003cth\u003e3\u003c/th\u003e\n      \u003ctd\u003eFBI Russia probe helped by Australian diplomat...\u003c/td\u003e\n      \u003ctd\u003eWASHINGTON (Reuters) - Trump campaign adviser ...\u003c/td\u003e\n      \u003ctd\u003epoliticsNews\u003c/td\u003e\n      \u003ctd\u003eDecember 30, 2017\u003c/td\u003e\n    \u003c/tr\u003e\n    \u003ctr\u003e\n      \u003cth\u003e4\u003c/th\u003e\n      \u003ctd\u003eTrump wants Postal Service to charge \u0027much mor...\u003c/td\u003e\n      \u003ctd\u003eSEATTLE/WASHINGTON (Reuters) - President Donal...\u003c/td\u003e\n      \u003ctd\u003epoliticsNews\u003c/td\u003e\n      \u003ctd\u003eDecember 29, 2017\u003c/td\u003e\n    \u003c/tr\u003e\n  \u003c/tbody\u003e\n\u003c/table\u003e\n\u003c/div\u003e"
          },
          "metadata": {},
          "output_type": "execute_result",
          "execution_count": 11
        }
      ],
      "source": "real_news \u003d pd.read_csv(\"input/True.csv\")\nreal_news.head()\n",
      "metadata": {
        "pycharm": {
          "metadata": false,
          "name": "#%%\n",
          "is_executing": false
        }
      }
    },
    {
      "cell_type": "markdown",
      "source": "**Load Fake.csv**",
      "metadata": {
        "pycharm": {
          "metadata": false
        }
      }
    },
    {
      "cell_type": "code",
      "execution_count": 12,
      "outputs": [
        {
          "data": {
            "text/plain": "                                               title  \\\n0   Donald Trump Sends Out Embarrassing New Year’...   \n1   Drunk Bragging Trump Staffer Started Russian ...   \n2   Sheriff David Clarke Becomes An Internet Joke...   \n3   Trump Is So Obsessed He Even Has Obama’s Name...   \n4   Pope Francis Just Called Out Donald Trump Dur...   \n\n                                                text subject  \\\n0  Donald Trump just couldn t wish all Americans ...    News   \n1  House Intelligence Committee Chairman Devin Nu...    News   \n2  On Friday, it was revealed that former Milwauk...    News   \n3  On Christmas day, Donald Trump announced that ...    News   \n4  Pope Francis used his annual Christmas Day mes...    News   \n\n                date  \n0  December 31, 2017  \n1  December 31, 2017  \n2  December 30, 2017  \n3  December 29, 2017  \n4  December 25, 2017  ",
            "text/html": "\u003cdiv\u003e\n\u003cstyle scoped\u003e\n    .dataframe tbody tr th:only-of-type {\n        vertical-align: middle;\n    }\n\n    .dataframe tbody tr th {\n        vertical-align: top;\n    }\n\n    .dataframe thead th {\n        text-align: right;\n    }\n\u003c/style\u003e\n\u003ctable border\u003d\"1\" class\u003d\"dataframe\"\u003e\n  \u003cthead\u003e\n    \u003ctr style\u003d\"text-align: right;\"\u003e\n      \u003cth\u003e\u003c/th\u003e\n      \u003cth\u003etitle\u003c/th\u003e\n      \u003cth\u003etext\u003c/th\u003e\n      \u003cth\u003esubject\u003c/th\u003e\n      \u003cth\u003edate\u003c/th\u003e\n    \u003c/tr\u003e\n  \u003c/thead\u003e\n  \u003ctbody\u003e\n    \u003ctr\u003e\n      \u003cth\u003e0\u003c/th\u003e\n      \u003ctd\u003eDonald Trump Sends Out Embarrassing New Year’...\u003c/td\u003e\n      \u003ctd\u003eDonald Trump just couldn t wish all Americans ...\u003c/td\u003e\n      \u003ctd\u003eNews\u003c/td\u003e\n      \u003ctd\u003eDecember 31, 2017\u003c/td\u003e\n    \u003c/tr\u003e\n    \u003ctr\u003e\n      \u003cth\u003e1\u003c/th\u003e\n      \u003ctd\u003eDrunk Bragging Trump Staffer Started Russian ...\u003c/td\u003e\n      \u003ctd\u003eHouse Intelligence Committee Chairman Devin Nu...\u003c/td\u003e\n      \u003ctd\u003eNews\u003c/td\u003e\n      \u003ctd\u003eDecember 31, 2017\u003c/td\u003e\n    \u003c/tr\u003e\n    \u003ctr\u003e\n      \u003cth\u003e2\u003c/th\u003e\n      \u003ctd\u003eSheriff David Clarke Becomes An Internet Joke...\u003c/td\u003e\n      \u003ctd\u003eOn Friday, it was revealed that former Milwauk...\u003c/td\u003e\n      \u003ctd\u003eNews\u003c/td\u003e\n      \u003ctd\u003eDecember 30, 2017\u003c/td\u003e\n    \u003c/tr\u003e\n    \u003ctr\u003e\n      \u003cth\u003e3\u003c/th\u003e\n      \u003ctd\u003eTrump Is So Obsessed He Even Has Obama’s Name...\u003c/td\u003e\n      \u003ctd\u003eOn Christmas day, Donald Trump announced that ...\u003c/td\u003e\n      \u003ctd\u003eNews\u003c/td\u003e\n      \u003ctd\u003eDecember 29, 2017\u003c/td\u003e\n    \u003c/tr\u003e\n    \u003ctr\u003e\n      \u003cth\u003e4\u003c/th\u003e\n      \u003ctd\u003ePope Francis Just Called Out Donald Trump Dur...\u003c/td\u003e\n      \u003ctd\u003ePope Francis used his annual Christmas Day mes...\u003c/td\u003e\n      \u003ctd\u003eNews\u003c/td\u003e\n      \u003ctd\u003eDecember 25, 2017\u003c/td\u003e\n    \u003c/tr\u003e\n  \u003c/tbody\u003e\n\u003c/table\u003e\n\u003c/div\u003e"
          },
          "metadata": {},
          "output_type": "execute_result",
          "execution_count": 12
        }
      ],
      "source": "fake_news \u003d pd.read_csv(\"input/Fake.csv\")\nfake_news.head()\n",
      "metadata": {
        "pycharm": {
          "metadata": false,
          "name": "#%%\n",
          "is_executing": false
        }
      }
    },
    {
      "cell_type": "markdown",
      "source": "\n**Important:** Both CSV files currently lack a column that labels each news story as Real/Fake.\n\n**We\u0027ll be adding new column to Fake.csv \u0026 True.csv that will classify new story as real news **(1)** or fake news **(0)**.**\n",
      "metadata": {
        "pycharm": {
          "metadata": false
        }
      }
    },
    {
      "cell_type": "markdown",
      "source": "**Add Label Column to True.csv**",
      "metadata": {
        "pycharm": {
          "metadata": false,
          "name": "#%% md\n",
          "is_executing": false
        }
      }
    },
    {
      "cell_type": "code",
      "execution_count": 13,
      "outputs": [
        {
          "name": "stdout",
          "text": [
            "(21417, 5)\n"
          ],
          "output_type": "stream"
        },
        {
          "data": {
            "text/plain": "                                               title  \\\n0  As U.S. budget fight looms, Republicans flip t...   \n1  U.S. military to accept transgender recruits o...   \n2  Senior U.S. Republican senator: \u0027Let Mr. Muell...   \n3  FBI Russia probe helped by Australian diplomat...   \n4  Trump wants Postal Service to charge \u0027much mor...   \n\n                                                text       subject  \\\n0  WASHINGTON (Reuters) - The head of a conservat...  politicsNews   \n1  WASHINGTON (Reuters) - Transgender people will...  politicsNews   \n2  WASHINGTON (Reuters) - The special counsel inv...  politicsNews   \n3  WASHINGTON (Reuters) - Trump campaign adviser ...  politicsNews   \n4  SEATTLE/WASHINGTON (Reuters) - President Donal...  politicsNews   \n\n                 date  Category  \n0  December 31, 2017          1  \n1  December 29, 2017          1  \n2  December 31, 2017          1  \n3  December 30, 2017          1  \n4  December 29, 2017          1  ",
            "text/html": "\u003cdiv\u003e\n\u003cstyle scoped\u003e\n    .dataframe tbody tr th:only-of-type {\n        vertical-align: middle;\n    }\n\n    .dataframe tbody tr th {\n        vertical-align: top;\n    }\n\n    .dataframe thead th {\n        text-align: right;\n    }\n\u003c/style\u003e\n\u003ctable border\u003d\"1\" class\u003d\"dataframe\"\u003e\n  \u003cthead\u003e\n    \u003ctr style\u003d\"text-align: right;\"\u003e\n      \u003cth\u003e\u003c/th\u003e\n      \u003cth\u003etitle\u003c/th\u003e\n      \u003cth\u003etext\u003c/th\u003e\n      \u003cth\u003esubject\u003c/th\u003e\n      \u003cth\u003edate\u003c/th\u003e\n      \u003cth\u003eCategory\u003c/th\u003e\n    \u003c/tr\u003e\n  \u003c/thead\u003e\n  \u003ctbody\u003e\n    \u003ctr\u003e\n      \u003cth\u003e0\u003c/th\u003e\n      \u003ctd\u003eAs U.S. budget fight looms, Republicans flip t...\u003c/td\u003e\n      \u003ctd\u003eWASHINGTON (Reuters) - The head of a conservat...\u003c/td\u003e\n      \u003ctd\u003epoliticsNews\u003c/td\u003e\n      \u003ctd\u003eDecember 31, 2017\u003c/td\u003e\n      \u003ctd\u003e1\u003c/td\u003e\n    \u003c/tr\u003e\n    \u003ctr\u003e\n      \u003cth\u003e1\u003c/th\u003e\n      \u003ctd\u003eU.S. military to accept transgender recruits o...\u003c/td\u003e\n      \u003ctd\u003eWASHINGTON (Reuters) - Transgender people will...\u003c/td\u003e\n      \u003ctd\u003epoliticsNews\u003c/td\u003e\n      \u003ctd\u003eDecember 29, 2017\u003c/td\u003e\n      \u003ctd\u003e1\u003c/td\u003e\n    \u003c/tr\u003e\n    \u003ctr\u003e\n      \u003cth\u003e2\u003c/th\u003e\n      \u003ctd\u003eSenior U.S. Republican senator: \u0027Let Mr. Muell...\u003c/td\u003e\n      \u003ctd\u003eWASHINGTON (Reuters) - The special counsel inv...\u003c/td\u003e\n      \u003ctd\u003epoliticsNews\u003c/td\u003e\n      \u003ctd\u003eDecember 31, 2017\u003c/td\u003e\n      \u003ctd\u003e1\u003c/td\u003e\n    \u003c/tr\u003e\n    \u003ctr\u003e\n      \u003cth\u003e3\u003c/th\u003e\n      \u003ctd\u003eFBI Russia probe helped by Australian diplomat...\u003c/td\u003e\n      \u003ctd\u003eWASHINGTON (Reuters) - Trump campaign adviser ...\u003c/td\u003e\n      \u003ctd\u003epoliticsNews\u003c/td\u003e\n      \u003ctd\u003eDecember 30, 2017\u003c/td\u003e\n      \u003ctd\u003e1\u003c/td\u003e\n    \u003c/tr\u003e\n    \u003ctr\u003e\n      \u003cth\u003e4\u003c/th\u003e\n      \u003ctd\u003eTrump wants Postal Service to charge \u0027much mor...\u003c/td\u003e\n      \u003ctd\u003eSEATTLE/WASHINGTON (Reuters) - President Donal...\u003c/td\u003e\n      \u003ctd\u003epoliticsNews\u003c/td\u003e\n      \u003ctd\u003eDecember 29, 2017\u003c/td\u003e\n      \u003ctd\u003e1\u003c/td\u003e\n    \u003c/tr\u003e\n  \u003c/tbody\u003e\n\u003c/table\u003e\n\u003c/div\u003e"
          },
          "metadata": {},
          "output_type": "execute_result",
          "execution_count": 13
        }
      ],
      "source": "real_news[\u0027Category\u0027] \u003d 1\n\n# Confirm Label column was added successfully\nprint(real_news.shape) # CSV now has 5 columns instead of previous 4\nreal_news.head()",
      "metadata": {
        "pycharm": {
          "metadata": false,
          "name": "#%%\n",
          "is_executing": false
        }
      }
    },
    {
      "cell_type": "markdown",
      "source": "**Add Label Column to Fake.csv**\n",
      "metadata": {
        "pycharm": {
          "metadata": false,
          "name": "#%% md\n"
        }
      }
    },
    {
      "cell_type": "code",
      "execution_count": 14,
      "outputs": [
        {
          "name": "stdout",
          "text": [
            "(23481, 5)\n"
          ],
          "output_type": "stream"
        },
        {
          "data": {
            "text/plain": "                                               title  \\\n0   Donald Trump Sends Out Embarrassing New Year’...   \n1   Drunk Bragging Trump Staffer Started Russian ...   \n2   Sheriff David Clarke Becomes An Internet Joke...   \n3   Trump Is So Obsessed He Even Has Obama’s Name...   \n4   Pope Francis Just Called Out Donald Trump Dur...   \n\n                                                text subject  \\\n0  Donald Trump just couldn t wish all Americans ...    News   \n1  House Intelligence Committee Chairman Devin Nu...    News   \n2  On Friday, it was revealed that former Milwauk...    News   \n3  On Christmas day, Donald Trump announced that ...    News   \n4  Pope Francis used his annual Christmas Day mes...    News   \n\n                date  Category  \n0  December 31, 2017         0  \n1  December 31, 2017         0  \n2  December 30, 2017         0  \n3  December 29, 2017         0  \n4  December 25, 2017         0  ",
            "text/html": "\u003cdiv\u003e\n\u003cstyle scoped\u003e\n    .dataframe tbody tr th:only-of-type {\n        vertical-align: middle;\n    }\n\n    .dataframe tbody tr th {\n        vertical-align: top;\n    }\n\n    .dataframe thead th {\n        text-align: right;\n    }\n\u003c/style\u003e\n\u003ctable border\u003d\"1\" class\u003d\"dataframe\"\u003e\n  \u003cthead\u003e\n    \u003ctr style\u003d\"text-align: right;\"\u003e\n      \u003cth\u003e\u003c/th\u003e\n      \u003cth\u003etitle\u003c/th\u003e\n      \u003cth\u003etext\u003c/th\u003e\n      \u003cth\u003esubject\u003c/th\u003e\n      \u003cth\u003edate\u003c/th\u003e\n      \u003cth\u003eCategory\u003c/th\u003e\n    \u003c/tr\u003e\n  \u003c/thead\u003e\n  \u003ctbody\u003e\n    \u003ctr\u003e\n      \u003cth\u003e0\u003c/th\u003e\n      \u003ctd\u003eDonald Trump Sends Out Embarrassing New Year’...\u003c/td\u003e\n      \u003ctd\u003eDonald Trump just couldn t wish all Americans ...\u003c/td\u003e\n      \u003ctd\u003eNews\u003c/td\u003e\n      \u003ctd\u003eDecember 31, 2017\u003c/td\u003e\n      \u003ctd\u003e0\u003c/td\u003e\n    \u003c/tr\u003e\n    \u003ctr\u003e\n      \u003cth\u003e1\u003c/th\u003e\n      \u003ctd\u003eDrunk Bragging Trump Staffer Started Russian ...\u003c/td\u003e\n      \u003ctd\u003eHouse Intelligence Committee Chairman Devin Nu...\u003c/td\u003e\n      \u003ctd\u003eNews\u003c/td\u003e\n      \u003ctd\u003eDecember 31, 2017\u003c/td\u003e\n      \u003ctd\u003e0\u003c/td\u003e\n    \u003c/tr\u003e\n    \u003ctr\u003e\n      \u003cth\u003e2\u003c/th\u003e\n      \u003ctd\u003eSheriff David Clarke Becomes An Internet Joke...\u003c/td\u003e\n      \u003ctd\u003eOn Friday, it was revealed that former Milwauk...\u003c/td\u003e\n      \u003ctd\u003eNews\u003c/td\u003e\n      \u003ctd\u003eDecember 30, 2017\u003c/td\u003e\n      \u003ctd\u003e0\u003c/td\u003e\n    \u003c/tr\u003e\n    \u003ctr\u003e\n      \u003cth\u003e3\u003c/th\u003e\n      \u003ctd\u003eTrump Is So Obsessed He Even Has Obama’s Name...\u003c/td\u003e\n      \u003ctd\u003eOn Christmas day, Donald Trump announced that ...\u003c/td\u003e\n      \u003ctd\u003eNews\u003c/td\u003e\n      \u003ctd\u003eDecember 29, 2017\u003c/td\u003e\n      \u003ctd\u003e0\u003c/td\u003e\n    \u003c/tr\u003e\n    \u003ctr\u003e\n      \u003cth\u003e4\u003c/th\u003e\n      \u003ctd\u003ePope Francis Just Called Out Donald Trump Dur...\u003c/td\u003e\n      \u003ctd\u003ePope Francis used his annual Christmas Day mes...\u003c/td\u003e\n      \u003ctd\u003eNews\u003c/td\u003e\n      \u003ctd\u003eDecember 25, 2017\u003c/td\u003e\n      \u003ctd\u003e0\u003c/td\u003e\n    \u003c/tr\u003e\n  \u003c/tbody\u003e\n\u003c/table\u003e\n\u003c/div\u003e"
          },
          "metadata": {},
          "output_type": "execute_result",
          "execution_count": 14
        }
      ],
      "source": "\nfake_news[\u0027Category\u0027] \u003d 0\n\nprint(fake_news.shape)\nfake_news.head()\n",
      "metadata": {
        "pycharm": {
          "metadata": false,
          "name": "#%%\n",
          "is_executing": false
        }
      }
    },
    {
      "cell_type": "markdown",
      "source": "\n**We\u0027ll now continue by merging and saving True/Fake csv into a master source dataset that we\u0027ll be\n using to train our model.**\n",
      "metadata": {
        "pycharm": {
          "metadata": false,
          "name": "#%% md\n"
        }
      }
    },
    {
      "cell_type": "markdown",
      "source": "**Merge True \u0026 Fake CSVs into master dataset**",
      "metadata": {
        "pycharm": {
          "metadata": false,
          "name": "#%% md\n"
        }
      }
    },
    {
      "cell_type": "code",
      "execution_count": 15,
      "outputs": [
        {
          "name": "stdout",
          "text": [
            "(44898, 5)\n"
          ],
          "output_type": "stream"
        },
        {
          "data": {
            "text/plain": "                                               title  \\\n0  As U.S. budget fight looms, Republicans flip t...   \n1  U.S. military to accept transgender recruits o...   \n2  Senior U.S. Republican senator: \u0027Let Mr. Muell...   \n3  FBI Russia probe helped by Australian diplomat...   \n4  Trump wants Postal Service to charge \u0027much mor...   \n\n                                                text       subject  \\\n0  WASHINGTON (Reuters) - The head of a conservat...  politicsNews   \n1  WASHINGTON (Reuters) - Transgender people will...  politicsNews   \n2  WASHINGTON (Reuters) - The special counsel inv...  politicsNews   \n3  WASHINGTON (Reuters) - Trump campaign adviser ...  politicsNews   \n4  SEATTLE/WASHINGTON (Reuters) - President Donal...  politicsNews   \n\n                 date  Category  \n0  December 31, 2017          1  \n1  December 29, 2017          1  \n2  December 31, 2017          1  \n3  December 30, 2017          1  \n4  December 29, 2017          1  ",
            "text/html": "\u003cdiv\u003e\n\u003cstyle scoped\u003e\n    .dataframe tbody tr th:only-of-type {\n        vertical-align: middle;\n    }\n\n    .dataframe tbody tr th {\n        vertical-align: top;\n    }\n\n    .dataframe thead th {\n        text-align: right;\n    }\n\u003c/style\u003e\n\u003ctable border\u003d\"1\" class\u003d\"dataframe\"\u003e\n  \u003cthead\u003e\n    \u003ctr style\u003d\"text-align: right;\"\u003e\n      \u003cth\u003e\u003c/th\u003e\n      \u003cth\u003etitle\u003c/th\u003e\n      \u003cth\u003etext\u003c/th\u003e\n      \u003cth\u003esubject\u003c/th\u003e\n      \u003cth\u003edate\u003c/th\u003e\n      \u003cth\u003eCategory\u003c/th\u003e\n    \u003c/tr\u003e\n  \u003c/thead\u003e\n  \u003ctbody\u003e\n    \u003ctr\u003e\n      \u003cth\u003e0\u003c/th\u003e\n      \u003ctd\u003eAs U.S. budget fight looms, Republicans flip t...\u003c/td\u003e\n      \u003ctd\u003eWASHINGTON (Reuters) - The head of a conservat...\u003c/td\u003e\n      \u003ctd\u003epoliticsNews\u003c/td\u003e\n      \u003ctd\u003eDecember 31, 2017\u003c/td\u003e\n      \u003ctd\u003e1\u003c/td\u003e\n    \u003c/tr\u003e\n    \u003ctr\u003e\n      \u003cth\u003e1\u003c/th\u003e\n      \u003ctd\u003eU.S. military to accept transgender recruits o...\u003c/td\u003e\n      \u003ctd\u003eWASHINGTON (Reuters) - Transgender people will...\u003c/td\u003e\n      \u003ctd\u003epoliticsNews\u003c/td\u003e\n      \u003ctd\u003eDecember 29, 2017\u003c/td\u003e\n      \u003ctd\u003e1\u003c/td\u003e\n    \u003c/tr\u003e\n    \u003ctr\u003e\n      \u003cth\u003e2\u003c/th\u003e\n      \u003ctd\u003eSenior U.S. Republican senator: \u0027Let Mr. Muell...\u003c/td\u003e\n      \u003ctd\u003eWASHINGTON (Reuters) - The special counsel inv...\u003c/td\u003e\n      \u003ctd\u003epoliticsNews\u003c/td\u003e\n      \u003ctd\u003eDecember 31, 2017\u003c/td\u003e\n      \u003ctd\u003e1\u003c/td\u003e\n    \u003c/tr\u003e\n    \u003ctr\u003e\n      \u003cth\u003e3\u003c/th\u003e\n      \u003ctd\u003eFBI Russia probe helped by Australian diplomat...\u003c/td\u003e\n      \u003ctd\u003eWASHINGTON (Reuters) - Trump campaign adviser ...\u003c/td\u003e\n      \u003ctd\u003epoliticsNews\u003c/td\u003e\n      \u003ctd\u003eDecember 30, 2017\u003c/td\u003e\n      \u003ctd\u003e1\u003c/td\u003e\n    \u003c/tr\u003e\n    \u003ctr\u003e\n      \u003cth\u003e4\u003c/th\u003e\n      \u003ctd\u003eTrump wants Postal Service to charge \u0027much mor...\u003c/td\u003e\n      \u003ctd\u003eSEATTLE/WASHINGTON (Reuters) - President Donal...\u003c/td\u003e\n      \u003ctd\u003epoliticsNews\u003c/td\u003e\n      \u003ctd\u003eDecember 29, 2017\u003c/td\u003e\n      \u003ctd\u003e1\u003c/td\u003e\n    \u003c/tr\u003e\n  \u003c/tbody\u003e\n\u003c/table\u003e\n\u003c/div\u003e"
          },
          "metadata": {},
          "output_type": "execute_result",
          "execution_count": 15
        }
      ],
      "source": "dataset \u003d pd.concat([real_news,fake_news]).reset_index(drop\u003dTrue)\n# Confirm master dataset was created successfully\nprint(dataset.shape)\ndataset.head()",
      "metadata": {
        "pycharm": {
          "metadata": false,
          "name": "#%%\n",
          "is_executing": false
        }
      }
    },
    {
      "cell_type": "markdown",
      "source": "**Now we\u0027re going to check for missing values in master dataset**",
      "metadata": {
        "pycharm": {
          "metadata": false,
          "name": "#%% md\n"
        }
      }
    },
    {
      "cell_type": "code",
      "execution_count": 16,
      "outputs": [
        {
          "data": {
            "text/plain": "title       0\ntext        0\nsubject     0\ndate        0\nCategory    0\ndtype: int64"
          },
          "metadata": {},
          "output_type": "execute_result",
          "execution_count": 16
        }
      ],
      "source": "dataset.isnull().sum()",
      "metadata": {
        "pycharm": {
          "metadata": false,
          "name": "#%%\n",
          "is_executing": false
        }
      }
    },
    {
      "cell_type": "markdown",
      "source": "**No missing values were observed.**\n",
      "metadata": {
        "pycharm": {
          "metadata": false,
          "name": "#%% md\n"
        }
      }
    },
    {
      "cell_type": "markdown",
      "source": "**We\u0027re now going to create a new column that merges the title and text columns of a news story.**\n",
      "metadata": {
        "pycharm": {
          "metadata": false,
          "name": "#%% md\n"
        }
      }
    },
    {
      "cell_type": "code",
      "execution_count": 18,
      "outputs": [],
      "source": "dataset[\u0027news_story\u0027] \u003d dataset[\u0027title\u0027] + dataset[\u0027text\u0027]\ndataset[\u0027news_story\u0027].head()\n\n",
      "metadata": {
        "pycharm": {
          "metadata": false,
          "name": "#%%\n",
          "is_executing": false
        }
      }
    },
    {
      "cell_type": "markdown",
      "source": "**Finally, we\u0027ll now save the dataset into CSV format.**",
      "metadata": {
        "pycharm": {
          "metadata": false,
          "name": "#%% md\n"
        }
      }
    },
    {
      "cell_type": "code",
      "execution_count": null,
      "outputs": [],
      "source": "dataset.to_csv(\u0027input/master_dataset.csv\u0027)\n",
      "metadata": {
        "pycharm": {
          "metadata": false,
          "name": "#%%\n"
        }
      }
    }
  ],
  "metadata": {
    "language_info": {
      "codemirror_mode": {
        "name": "ipython",
        "version": 2
      },
      "file_extension": ".py",
      "mimetype": "text/x-python",
      "name": "python",
      "nbconvert_exporter": "python",
      "pygments_lexer": "ipython2",
      "version": "2.7.6"
    },
    "kernelspec": {
      "name": "pycharm-137fa7cd",
      "language": "python",
      "display_name": "PyCharm (NewsTopicSummary)"
    },
    "stem_cell": {
      "cell_type": "raw",
      "source": "",
      "metadata": {
        "pycharm": {
          "metadata": false
        }
      }
    }
  },
  "nbformat": 4,
  "nbformat_minor": 0
}