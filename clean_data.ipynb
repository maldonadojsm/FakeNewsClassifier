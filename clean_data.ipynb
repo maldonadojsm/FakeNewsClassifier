{
  "cells": [
    {
      "cell_type": "markdown",
      "metadata": {
        "collapsed": true,
        "pycharm": {
          "name": "#%% md\n"
        }
      },
      "source": "\n# Cleaning Data\n"
    },
    {
      "cell_type": "markdown",
      "source": "\n**In this notebook, we\u0027ll be cleaning the text in the dataset before it\u0027s used for training. We\u0027ll be removing:**\n 1. **Non-alphanumeric characters**\n 2. **Numeric Text**\n 3. **URLS**\n 4. **Stopwords (an, the, in, the, ....) -\u003e NLTK**\n ",
      "metadata": {
        "pycharm": {
          "metadata": false,
          "name": "#%% md\n"
        }
      }
    },
    {
      "cell_type": "markdown",
      "source": "\n**Load Libraries:**\n",
      "metadata": {
        "pycharm": {
          "metadata": false,
          "name": "#%% md\n"
        }
      }
    },
    {
      "cell_type": "code",
      "execution_count": 6,
      "outputs": [],
      "source": "\nimport pandas as pd\nimport re\nfrom nltk.corpus import stopwords\nimport scripts\nimport pickle\n",
      "metadata": {
        "pycharm": {
          "metadata": false,
          "name": "#%% \n",
          "is_executing": false
        }
      }
    },
    {
      "cell_type": "markdown",
      "source": "**Load Dataset:**\n",
      "metadata": {
        "pycharm": {
          "metadata": false,
          "name": "#%% md\n"
        }
      }
    },
    {
      "cell_type": "code",
      "execution_count": 2,
      "outputs": [],
      "source": "\ndataset \u003d pd.read_csv(\"input/master_dataset.csv\")\nnum_data_points \u003d dataset.shape[0]\n",
      "metadata": {
        "pycharm": {
          "metadata": false,
          "name": "#%%\n",
          "is_executing": false
        }
      }
    },
    {
      "cell_type": "markdown",
      "source": "**Clean text found in new_story column:**\n",
      "metadata": {
        "pycharm": {
          "metadata": false,
          "name": "#%% md\n"
        }
      }
    },
    {
      "cell_type": "code",
      "execution_count": 3,
      "outputs": [],
      "source": "text_result \u003d []\nfor text in dataset[\u0027news_story\u0027]:\n    # Remove non-alphabet and numeric characters data \n    result \u003d re.sub(\u0027[^a-zA-Z]\u0027, \u0027 \u0027, text)\n    # Convert remaining characters to lowercase\n    result \u003d result.lower()\n    result \u003d result.split()\n    # Remove stopwords from dataset (NLTK)\n    result \u003d [i for i in result if i not in set(stopwords.words(\u0027english\u0027))]\n    text_result.append(\" \".join(result))\n\n",
      "metadata": {
        "pycharm": {
          "metadata": false,
          "name": "#%%\n",
          "is_executing": false
        }
      }
    },
    {
      "cell_type": "markdown",
      "source": "**Check if number of rows in cleaned text matches number of rows in original text:**",
      "metadata": {
        "pycharm": {
          "metadata": false,
          "name": "#%% md\n"
        }
      }
    },
    {
      "cell_type": "code",
      "execution_count": 4,
      "outputs": [
        {
          "data": {
            "text/plain": "True"
          },
          "metadata": {},
          "output_type": "execute_result",
          "execution_count": 4
        }
      ],
      "source": "scripts.check_size(num_data_points,len(text_result))\n",
      "metadata": {
        "pycharm": {
          "metadata": false,
          "name": "#%%\n",
          "is_executing": false
        }
      }
    },
    {
      "cell_type": "markdown",
      "source": "**Save Cleaned Text as Pickle File:**\n",
      "metadata": {
        "pycharm": {
          "metadata": false,
          "name": "#%% md\n"
        }
      }
    },
    {
      "cell_type": "code",
      "execution_count": 7,
      "outputs": [],
      "source": "with open(\"input/clean.txt\", \"wb\") as f:\n    pickle.dump(text_result, f)\n\n",
      "metadata": {
        "pycharm": {
          "metadata": false,
          "name": "#%% \n",
          "is_executing": false
        }
      }
    }
  ],
  "metadata": {
    "language_info": {
      "codemirror_mode": {
        "name": "ipython",
        "version": 2
      },
      "file_extension": ".py",
      "mimetype": "text/x-python",
      "name": "python",
      "nbconvert_exporter": "python",
      "pygments_lexer": "ipython2",
      "version": "2.7.6"
    },
    "kernelspec": {
      "name": "pycharm-137fa7cd",
      "language": "python",
      "display_name": "PyCharm (NewsTopicSummary)"
    }
  },
  "nbformat": 4,
  "nbformat_minor": 0
}